{
 "cells": [
  {
   "cell_type": "code",
   "execution_count": 84,
   "metadata": {},
   "outputs": [],
   "source": [
    "import pandas as pd\n",
    "import numpy as np\n",
    "import matplotlib.pyplot as plt\n",
    "import seaborn as sns\n",
    "import plotly.express as px\n",
    "\n",
    "\n",
    "import geopandas as gp\n",
    "import pycountry\n",
    "\n",
    "import sys\n",
    "\n",
    "sys.path.insert(0, \"../Notebooks/Functions\")\n",
    "import StatsFunctions as MF"
   ]
  },
  {
   "cell_type": "code",
   "execution_count": 73,
   "metadata": {},
   "outputs": [],
   "source": [
    "Countries = pd.read_excel(\"../Data/UN data/HDR21-22_Statistical_Annex_HDI_Table.xlsx\", sheet_name=\"Table 1\", header=5, usecols = \"B:C\", nrows=201)"
   ]
  },
  {
   "cell_type": "code",
   "execution_count": 74,
   "metadata": {},
   "outputs": [],
   "source": [
    "Countries = Countries.dropna().query(\"Value != '..'\")[\"Country\"].reset_index(drop = True)"
   ]
  },
  {
   "cell_type": "code",
   "execution_count": 75,
   "metadata": {},
   "outputs": [],
   "source": [
    "Rest = pd.read_excel(\"../Data/UN data/HDR21-22_Statistical_Annex_HDI_Table.xlsx\", sheet_name=\"Table 1\", header=4, usecols = \"C,E,G,I,K,M,O\", nrows=198)"
   ]
  },
  {
   "cell_type": "code",
   "execution_count": 76,
   "metadata": {},
   "outputs": [],
   "source": [
    "Rest = Rest.dropna().drop(index = 1, axis = 1).reset_index(drop=True)"
   ]
  },
  {
   "cell_type": "code",
   "execution_count": 77,
   "metadata": {},
   "outputs": [],
   "source": [
    "DF = pd.concat([Countries, Rest], axis=1)"
   ]
  },
  {
   "cell_type": "code",
   "execution_count": 82,
   "metadata": {},
   "outputs": [],
   "source": [
    "DF.rename(\n",
    "    {\n",
    "        \"Human Development Index (HDI) \": \"HDI\",\n",
    "        \"Life expectancy at birth\": \"LifeExpectancy\",\n",
    "        \"Expected years of schooling\": \"ExpectedYearsOfScholing\",\n",
    "        \"Mean years of schooling\": \"MeanYearsOfSchooling\",\n",
    "        \"Gross national income (GNI) per capita\": \"GNI\"\n",
    "    },\n",
    "    axis=1,\n",
    "    inplace=True\n",
    ")"
   ]
  }
 ],
 "metadata": {
  "kernelspec": {
   "display_name": "Python 3",
   "language": "python",
   "name": "python3"
  },
  "language_info": {
   "codemirror_mode": {
    "name": "ipython",
    "version": 3
   },
   "file_extension": ".py",
   "mimetype": "text/x-python",
   "name": "python",
   "nbconvert_exporter": "python",
   "pygments_lexer": "ipython3",
   "version": "3.9.2"
  }
 },
 "nbformat": 4,
 "nbformat_minor": 2
}
